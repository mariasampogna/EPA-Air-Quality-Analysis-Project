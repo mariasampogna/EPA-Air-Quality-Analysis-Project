{
 "cells": [
  {
   "cell_type": "markdown",
   "id": "ffa1aa12",
   "metadata": {},
   "source": [
    "# Supervised Machine Learning - Regression"
   ]
  },
  {
   "cell_type": "markdown",
   "id": "c7f0e322",
   "metadata": {},
   "source": [
    "## This script contains:\n",
    "### 1. Importing libraries and data\n",
    "### 2. Data cleaning\n",
    "### 3. Data prep for regression analysis\n",
    "### 4. Regression analysis\n",
    "### 5. Performance improvement after removing outliers"
   ]
  },
  {
   "cell_type": "markdown",
   "id": "d91dfa10",
   "metadata": {},
   "source": [
    "### 01. Importing libraries and data"
   ]
  },
  {
   "cell_type": "code",
   "execution_count": 1,
   "id": "3040aaa5",
   "metadata": {},
   "outputs": [],
   "source": [
    "import pandas as pd\n",
    "import numpy as np\n",
    "import seaborn as sns\n",
    "import matplotlib\n",
    "import matplotlib.pyplot as plt\n",
    "import os\n",
    "import sklearn\n",
    "from sklearn.model_selection import train_test_split \n",
    "from sklearn.linear_model import LinearRegression\n",
    "from sklearn.metrics import mean_squared_error, r2_score"
   ]
  },
  {
   "cell_type": "code",
   "execution_count": 2,
   "id": "7d34e9c1",
   "metadata": {},
   "outputs": [],
   "source": [
    "# set graphs to display in the notebook automatically\n",
    "\n",
    "%matplotlib inline"
   ]
  },
  {
   "cell_type": "code",
   "execution_count": 3,
   "id": "248279b8",
   "metadata": {},
   "outputs": [],
   "source": [
    "# define path\n",
    "\n",
    "path = '/Users/mariasampogna/Documents/Career Foundry/Data Analytics Immersion/Achievement 6/EPA Air Quality Analysis'"
   ]
  },
  {
   "cell_type": "code",
   "execution_count": 4,
   "id": "4dbc45df",
   "metadata": {},
   "outputs": [],
   "source": [
    "# Import data for analysis\n",
    "\n",
    "df = pd.read_pickle(os.path.join(path,'02 Data','Prepared Data','EPA Daily Data with AQI Categories.pkl'))"
   ]
  },
  {
   "cell_type": "markdown",
   "id": "17d6a270",
   "metadata": {},
   "source": [
    "### 02. Data cleaning"
   ]
  },
  {
   "cell_type": "code",
   "execution_count": 5,
   "id": "0085ef9d",
   "metadata": {},
   "outputs": [
    {
     "data": {
      "text/plain": [
       "Index(['Unnamed: 0', 'Site Num', 'Latitude', 'Longitude',\n",
       "       'Sample Duration Ozone', 'Pollutant Standard Ozone', 'Date Local',\n",
       "       'Units of Measure Ozone', 'Event Type Ozone', 'Observation Count Ozone',\n",
       "       'Observation Percent Ozone', 'Arithmetic Mean Ozone',\n",
       "       '1st Max Value Ozone', '1st Max Hour Ozone', 'AQI Ozone',\n",
       "       'Method Code Ozone', 'Method Name Ozone', 'Local Site Name', 'Address',\n",
       "       'State Name', 'County Name', 'City Name', 'CBSA Name',\n",
       "       'Sample Duration CO', 'Pollutant Standard CO', 'Units of Measure CO',\n",
       "       'Event Type CO', 'Observation Count CO', 'Observation Percent CO',\n",
       "       'Arithmetic Mean CO', '1st Max Value CO', '1st Max Hour CO', 'AQI CO',\n",
       "       'Method Code CO', 'Method Name CO', 'Sample Duration NO2',\n",
       "       'Pollutant Standard NO2', 'Units of Measure NO2', 'Event Type NO2',\n",
       "       'Observation Count NO2', 'Observation Percent NO2',\n",
       "       'Arithmetic Mean NO2', '1st Max Value NO2', '1st Max Hour NO2',\n",
       "       'AQI NO2', 'Method Code NO2', 'Method Name NO2', 'Sample Duration SO2',\n",
       "       'Pollutant Standard SO2', 'Units of Measure SO2', 'Event Type SO2',\n",
       "       'Observation Count SO2', 'Observation Percent SO2',\n",
       "       'Arithmetic Mean SO2', '1st Max Value SO2', '1st Max Hour SO2',\n",
       "       'AQI SO2', 'Method Code SO2', 'Method Name SO2', '_merge',\n",
       "       'AQI Level Ozone'],\n",
       "      dtype='object')"
      ]
     },
     "execution_count": 5,
     "metadata": {},
     "output_type": "execute_result"
    }
   ],
   "source": [
    "# review dataframe output\n",
    "\n",
    "df.columns"
   ]
  },
  {
   "cell_type": "code",
   "execution_count": 6,
   "id": "35c17367",
   "metadata": {},
   "outputs": [
    {
     "data": {
      "text/html": [
       "<div>\n",
       "<style scoped>\n",
       "    .dataframe tbody tr th:only-of-type {\n",
       "        vertical-align: middle;\n",
       "    }\n",
       "\n",
       "    .dataframe tbody tr th {\n",
       "        vertical-align: top;\n",
       "    }\n",
       "\n",
       "    .dataframe thead th {\n",
       "        text-align: right;\n",
       "    }\n",
       "</style>\n",
       "<table border=\"1\" class=\"dataframe\">\n",
       "  <thead>\n",
       "    <tr style=\"text-align: right;\">\n",
       "      <th></th>\n",
       "      <th>Unnamed: 0</th>\n",
       "      <th>Site Num</th>\n",
       "      <th>Latitude</th>\n",
       "      <th>Longitude</th>\n",
       "      <th>Sample Duration Ozone</th>\n",
       "      <th>Pollutant Standard Ozone</th>\n",
       "      <th>Date Local</th>\n",
       "      <th>Units of Measure Ozone</th>\n",
       "      <th>Event Type Ozone</th>\n",
       "      <th>Observation Count Ozone</th>\n",
       "      <th>...</th>\n",
       "      <th>Observation Count SO2</th>\n",
       "      <th>Observation Percent SO2</th>\n",
       "      <th>Arithmetic Mean SO2</th>\n",
       "      <th>1st Max Value SO2</th>\n",
       "      <th>1st Max Hour SO2</th>\n",
       "      <th>AQI SO2</th>\n",
       "      <th>Method Code SO2</th>\n",
       "      <th>Method Name SO2</th>\n",
       "      <th>_merge</th>\n",
       "      <th>AQI Level Ozone</th>\n",
       "    </tr>\n",
       "  </thead>\n",
       "  <tbody>\n",
       "    <tr>\n",
       "      <th>0</th>\n",
       "      <td>0</td>\n",
       "      <td>10.0</td>\n",
       "      <td>30.497478</td>\n",
       "      <td>-87.880258</td>\n",
       "      <td>8-HR RUN AVG BEGIN HOUR</td>\n",
       "      <td>Ozone 8-hour 2015</td>\n",
       "      <td>2022-02-28</td>\n",
       "      <td>Parts per million</td>\n",
       "      <td>None</td>\n",
       "      <td>1.0</td>\n",
       "      <td>...</td>\n",
       "      <td>NaN</td>\n",
       "      <td>NaN</td>\n",
       "      <td>NaN</td>\n",
       "      <td>NaN</td>\n",
       "      <td>NaN</td>\n",
       "      <td>NaN</td>\n",
       "      <td>NaN</td>\n",
       "      <td>NaN</td>\n",
       "      <td>left_only</td>\n",
       "      <td>Good</td>\n",
       "    </tr>\n",
       "    <tr>\n",
       "      <th>1</th>\n",
       "      <td>1</td>\n",
       "      <td>10.0</td>\n",
       "      <td>30.497478</td>\n",
       "      <td>-87.880258</td>\n",
       "      <td>8-HR RUN AVG BEGIN HOUR</td>\n",
       "      <td>Ozone 8-hour 2015</td>\n",
       "      <td>2022-03-01</td>\n",
       "      <td>Parts per million</td>\n",
       "      <td>None</td>\n",
       "      <td>17.0</td>\n",
       "      <td>...</td>\n",
       "      <td>NaN</td>\n",
       "      <td>NaN</td>\n",
       "      <td>NaN</td>\n",
       "      <td>NaN</td>\n",
       "      <td>NaN</td>\n",
       "      <td>NaN</td>\n",
       "      <td>NaN</td>\n",
       "      <td>NaN</td>\n",
       "      <td>left_only</td>\n",
       "      <td>Good</td>\n",
       "    </tr>\n",
       "    <tr>\n",
       "      <th>2</th>\n",
       "      <td>2</td>\n",
       "      <td>10.0</td>\n",
       "      <td>30.497478</td>\n",
       "      <td>-87.880258</td>\n",
       "      <td>8-HR RUN AVG BEGIN HOUR</td>\n",
       "      <td>Ozone 8-hour 2015</td>\n",
       "      <td>2022-03-02</td>\n",
       "      <td>Parts per million</td>\n",
       "      <td>None</td>\n",
       "      <td>17.0</td>\n",
       "      <td>...</td>\n",
       "      <td>NaN</td>\n",
       "      <td>NaN</td>\n",
       "      <td>NaN</td>\n",
       "      <td>NaN</td>\n",
       "      <td>NaN</td>\n",
       "      <td>NaN</td>\n",
       "      <td>NaN</td>\n",
       "      <td>NaN</td>\n",
       "      <td>left_only</td>\n",
       "      <td>Moderate</td>\n",
       "    </tr>\n",
       "    <tr>\n",
       "      <th>3</th>\n",
       "      <td>3</td>\n",
       "      <td>10.0</td>\n",
       "      <td>30.497478</td>\n",
       "      <td>-87.880258</td>\n",
       "      <td>8-HR RUN AVG BEGIN HOUR</td>\n",
       "      <td>Ozone 8-hour 2015</td>\n",
       "      <td>2022-03-03</td>\n",
       "      <td>Parts per million</td>\n",
       "      <td>None</td>\n",
       "      <td>9.0</td>\n",
       "      <td>...</td>\n",
       "      <td>NaN</td>\n",
       "      <td>NaN</td>\n",
       "      <td>NaN</td>\n",
       "      <td>NaN</td>\n",
       "      <td>NaN</td>\n",
       "      <td>NaN</td>\n",
       "      <td>NaN</td>\n",
       "      <td>NaN</td>\n",
       "      <td>left_only</td>\n",
       "      <td>Good</td>\n",
       "    </tr>\n",
       "    <tr>\n",
       "      <th>4</th>\n",
       "      <td>4</td>\n",
       "      <td>10.0</td>\n",
       "      <td>30.497478</td>\n",
       "      <td>-87.880258</td>\n",
       "      <td>8-HR RUN AVG BEGIN HOUR</td>\n",
       "      <td>Ozone 8-hour 2015</td>\n",
       "      <td>2022-03-04</td>\n",
       "      <td>Parts per million</td>\n",
       "      <td>None</td>\n",
       "      <td>17.0</td>\n",
       "      <td>...</td>\n",
       "      <td>NaN</td>\n",
       "      <td>NaN</td>\n",
       "      <td>NaN</td>\n",
       "      <td>NaN</td>\n",
       "      <td>NaN</td>\n",
       "      <td>NaN</td>\n",
       "      <td>NaN</td>\n",
       "      <td>NaN</td>\n",
       "      <td>left_only</td>\n",
       "      <td>Moderate</td>\n",
       "    </tr>\n",
       "  </tbody>\n",
       "</table>\n",
       "<p>5 rows × 61 columns</p>\n",
       "</div>"
      ],
      "text/plain": [
       "   Unnamed: 0  Site Num   Latitude  Longitude    Sample Duration Ozone  \\\n",
       "0           0      10.0  30.497478 -87.880258  8-HR RUN AVG BEGIN HOUR   \n",
       "1           1      10.0  30.497478 -87.880258  8-HR RUN AVG BEGIN HOUR   \n",
       "2           2      10.0  30.497478 -87.880258  8-HR RUN AVG BEGIN HOUR   \n",
       "3           3      10.0  30.497478 -87.880258  8-HR RUN AVG BEGIN HOUR   \n",
       "4           4      10.0  30.497478 -87.880258  8-HR RUN AVG BEGIN HOUR   \n",
       "\n",
       "  Pollutant Standard Ozone  Date Local Units of Measure Ozone  \\\n",
       "0        Ozone 8-hour 2015  2022-02-28      Parts per million   \n",
       "1        Ozone 8-hour 2015  2022-03-01      Parts per million   \n",
       "2        Ozone 8-hour 2015  2022-03-02      Parts per million   \n",
       "3        Ozone 8-hour 2015  2022-03-03      Parts per million   \n",
       "4        Ozone 8-hour 2015  2022-03-04      Parts per million   \n",
       "\n",
       "  Event Type Ozone  Observation Count Ozone  ...  Observation Count SO2  \\\n",
       "0             None                      1.0  ...                    NaN   \n",
       "1             None                     17.0  ...                    NaN   \n",
       "2             None                     17.0  ...                    NaN   \n",
       "3             None                      9.0  ...                    NaN   \n",
       "4             None                     17.0  ...                    NaN   \n",
       "\n",
       "   Observation Percent SO2  Arithmetic Mean SO2  1st Max Value SO2  \\\n",
       "0                      NaN                  NaN                NaN   \n",
       "1                      NaN                  NaN                NaN   \n",
       "2                      NaN                  NaN                NaN   \n",
       "3                      NaN                  NaN                NaN   \n",
       "4                      NaN                  NaN                NaN   \n",
       "\n",
       "   1st Max Hour SO2  AQI SO2 Method Code SO2 Method Name SO2     _merge  \\\n",
       "0               NaN      NaN             NaN             NaN  left_only   \n",
       "1               NaN      NaN             NaN             NaN  left_only   \n",
       "2               NaN      NaN             NaN             NaN  left_only   \n",
       "3               NaN      NaN             NaN             NaN  left_only   \n",
       "4               NaN      NaN             NaN             NaN  left_only   \n",
       "\n",
       "  AQI Level Ozone  \n",
       "0            Good  \n",
       "1            Good  \n",
       "2        Moderate  \n",
       "3            Good  \n",
       "4        Moderate  \n",
       "\n",
       "[5 rows x 61 columns]"
      ]
     },
     "execution_count": 6,
     "metadata": {},
     "output_type": "execute_result"
    }
   ],
   "source": [
    "df.head()"
   ]
  },
  {
   "cell_type": "code",
   "execution_count": 7,
   "id": "e4daeb8c",
   "metadata": {},
   "outputs": [
    {
     "data": {
      "text/plain": [
       "(472410, 61)"
      ]
     },
     "execution_count": 7,
     "metadata": {},
     "output_type": "execute_result"
    }
   ],
   "source": [
    "df.shape"
   ]
  },
  {
   "cell_type": "code",
   "execution_count": 11,
   "id": "c166b58e",
   "metadata": {},
   "outputs": [],
   "source": [
    "# rename long column names for analysis\n",
    "\n",
    "df.rename(columns = {'Arithmetic Mean Ozone':'Mean Ozone',\n",
    "                     'Arithmetic Mean CO':'Mean CO',\n",
    "                     'Arithmetic Mean NO2':'Mean NO2',\n",
    "                     'Arithmetic Mean SO2':'Mean SO2'},\n",
    "          inplace = True)"
   ]
  },
  {
   "cell_type": "code",
   "execution_count": 12,
   "id": "178ea7f5",
   "metadata": {},
   "outputs": [],
   "source": [
    "# select the necessary columns for analysis\n",
    "\n",
    "columns = ['Mean Ozone','AQI Ozone','Date Local','State Name']"
   ]
  },
  {
   "cell_type": "code",
   "execution_count": 13,
   "id": "d3b31ea9",
   "metadata": {},
   "outputs": [],
   "source": [
    "# create a subset of the data using those columns\n",
    "\n",
    "df_sub = df[columns]"
   ]
  },
  {
   "cell_type": "code",
   "execution_count": 17,
   "id": "02d678fc",
   "metadata": {},
   "outputs": [
    {
     "data": {
      "text/plain": [
       "(341501, 4)"
      ]
     },
     "execution_count": 17,
     "metadata": {},
     "output_type": "execute_result"
    }
   ],
   "source": [
    "df_sub.shape"
   ]
  },
  {
   "cell_type": "markdown",
   "id": "5b1b4784",
   "metadata": {},
   "source": [
    "#### Missing values"
   ]
  },
  {
   "cell_type": "code",
   "execution_count": 14,
   "id": "3e1d948b",
   "metadata": {},
   "outputs": [
    {
     "data": {
      "text/plain": [
       "Mean Ozone    130909\n",
       "AQI Ozone     130909\n",
       "Date Local         0\n",
       "State Name    130909\n",
       "dtype: int64"
      ]
     },
     "execution_count": 14,
     "metadata": {},
     "output_type": "execute_result"
    }
   ],
   "source": [
    "# check for missing values\n",
    "\n",
    "df_sub.isnull().sum()"
   ]
  },
  {
   "cell_type": "code",
   "execution_count": 15,
   "id": "2419041b",
   "metadata": {},
   "outputs": [],
   "source": [
    "# drop NaN values from the subset\n",
    "\n",
    "df_sub = df_sub.dropna(subset=['Mean Ozone'])"
   ]
  },
  {
   "cell_type": "code",
   "execution_count": 16,
   "id": "d23f33c9",
   "metadata": {},
   "outputs": [
    {
     "data": {
      "text/plain": [
       "Mean Ozone    0\n",
       "AQI Ozone     0\n",
       "Date Local    0\n",
       "State Name    0\n",
       "dtype: int64"
      ]
     },
     "execution_count": 16,
     "metadata": {},
     "output_type": "execute_result"
    }
   ],
   "source": [
    "# recheck for missing values\n",
    "\n",
    "df_sub.isnull().sum()"
   ]
  },
  {
   "cell_type": "markdown",
   "id": "67b067c9",
   "metadata": {},
   "source": [
    "#### Duplicates check"
   ]
  },
  {
   "cell_type": "code",
   "execution_count": 18,
   "id": "2c1c1df3",
   "metadata": {},
   "outputs": [],
   "source": [
    "# check for duplicates\n",
    "\n",
    "dups = df_sub.duplicated()"
   ]
  },
  {
   "cell_type": "code",
   "execution_count": 19,
   "id": "93f26a9b",
   "metadata": {},
   "outputs": [
    {
     "data": {
      "text/plain": [
       "(341501,)"
      ]
     },
     "execution_count": 19,
     "metadata": {},
     "output_type": "execute_result"
    }
   ],
   "source": [
    "dups.shape # no dups"
   ]
  },
  {
   "cell_type": "markdown",
   "id": "a31e8447",
   "metadata": {},
   "source": [
    "#### Extreme values check"
   ]
  },
  {
   "cell_type": "code",
   "execution_count": 20,
   "id": "15844582",
   "metadata": {},
   "outputs": [
    {
     "name": "stderr",
     "output_type": "stream",
     "text": [
      "/var/folders/d6/4mhjj43j7r9_r1lf0ncld46h0000gn/T/ipykernel_16734/1013344602.py:3: UserWarning: \n",
      "\n",
      "`distplot` is a deprecated function and will be removed in seaborn v0.14.0.\n",
      "\n",
      "Please adapt your code to use either `displot` (a figure-level function with\n",
      "similar flexibility) or `histplot` (an axes-level function for histograms).\n",
      "\n",
      "For a guide to updating your code to use the new functions, please see\n",
      "https://gist.github.com/mwaskom/de44147ed2974457ad6372750bbe5751\n",
      "\n",
      "  sns.distplot(df_sub['Mean Ozone'], bins=25)\n"
     ]
    },
    {
     "data": {
      "text/plain": [
       "<Axes: xlabel='Mean Ozone', ylabel='Density'>"
      ]
     },
     "execution_count": 20,
     "metadata": {},
     "output_type": "execute_result"
    },
    {
     "data": {
      "image/png": "[encoded data removed]",
      "text/plain": [
       "<Figure size 640x480 with 1 Axes>"
      ]
     },
     "metadata": {},
     "output_type": "display_data"
    }
   ],
   "source": [
    "# create histrogram to show extreme values\n",
    "\n",
    "sns.distplot(df_sub['Mean Ozone'], bins=25)"
   ]
  },
  {
   "cell_type": "code",
   "execution_count": 21,
   "id": "eaf1d241",
   "metadata": {},
   "outputs": [
    {
     "data": {
      "text/plain": [
       "0.033645653087399446"
      ]
     },
     "execution_count": 21,
     "metadata": {},
     "output_type": "execute_result"
    }
   ],
   "source": [
    "# check the mean\n",
    "\n",
    "df_sub['Mean Ozone'].mean()"
   ]
  },
  {
   "cell_type": "code",
   "execution_count": 22,
   "id": "18519df7",
   "metadata": {},
   "outputs": [
    {
     "data": {
      "text/plain": [
       "0.033824"
      ]
     },
     "execution_count": 22,
     "metadata": {},
     "output_type": "execute_result"
    }
   ],
   "source": [
    "# check the median\n",
    "\n",
    "df_sub['Mean Ozone'].median()"
   ]
  },
  {
   "cell_type": "code",
   "execution_count": 23,
   "id": "49f122d0",
   "metadata": {},
   "outputs": [
    {
     "data": {
      "text/plain": [
       "0.124765"
      ]
     },
     "execution_count": 23,
     "metadata": {},
     "output_type": "execute_result"
    }
   ],
   "source": [
    "# check the max\n",
    "\n",
    "df_sub['Mean Ozone'].max()"
   ]
  },
  {
   "cell_type": "markdown",
   "id": "4af229c0",
   "metadata": {},
   "source": [
    "There are some outliers that may need to be removed later after revieing the initial model."
   ]
  },
  {
   "cell_type": "markdown",
   "id": "854bd5b6",
   "metadata": {},
   "source": [
    "### 03. Data prep for regression analysis"
   ]
  },
  {
   "cell_type": "code",
   "execution_count": 24,
   "id": "9a2a2ef3",
   "metadata": {},
   "outputs": [
    {
     "data": {
      "image/png": "[encoded data removed]",
      "text/plain": [
       "<Figure size 640x480 with 1 Axes>"
      ]
     },
     "metadata": {},
     "output_type": "display_data"
    }
   ],
   "source": [
    "# Create a scatterplot using matplotlib for another look at how the chosen variables plot against each other.\n",
    "\n",
    "df_sub.plot(x = 'Mean Ozone', y='AQI Ozone',style='o')\n",
    "plt.title('Ozone Arithmetic Mean vs. Ozone AQI Level')  \n",
    "plt.xlabel('Arithmetic Mean')  \n",
    "plt.ylabel('AQI')  \n",
    "plt.show()"
   ]
  },
  {
   "cell_type": "markdown",
   "id": "77072e5a",
   "metadata": {},
   "source": [
    "#### Hypothesis\n",
    "\n",
    "The higher the Ozone arithmetic mean value, the higher the Ozone AQI value."
   ]
  },
  {
   "cell_type": "code",
   "execution_count": 25,
   "id": "db51c500",
   "metadata": {},
   "outputs": [],
   "source": [
    "# Reshape the variables into NumPy arrays and put them into separate objects.\n",
    "\n",
    "X = df_sub['Mean Ozone'].values.reshape(-1,1)\n",
    "y = df_sub['AQI Ozone'].values.reshape(-1,1)"
   ]
  },
  {
   "cell_type": "code",
   "execution_count": 26,
   "id": "a655a1ed",
   "metadata": {},
   "outputs": [
    {
     "data": {
      "text/plain": [
       "array([[0.038   ],\n",
       "       [0.037235],\n",
       "       [0.038235],\n",
       "       ...,\n",
       "       [0.034176],\n",
       "       [0.036471],\n",
       "       [0.036333]])"
      ]
     },
     "execution_count": 26,
     "metadata": {},
     "output_type": "execute_result"
    }
   ],
   "source": [
    "X"
   ]
  },
  {
   "cell_type": "code",
   "execution_count": 27,
   "id": "a0749a8e",
   "metadata": {},
   "outputs": [
    {
     "data": {
      "text/plain": [
       "array([[35.],\n",
       "       [50.],\n",
       "       [51.],\n",
       "       ...,\n",
       "       [35.],\n",
       "       [37.],\n",
       "       [36.]])"
      ]
     },
     "execution_count": 27,
     "metadata": {},
     "output_type": "execute_result"
    }
   ],
   "source": [
    "y"
   ]
  },
  {
   "cell_type": "code",
   "execution_count": 28,
   "id": "7416a0fa",
   "metadata": {},
   "outputs": [],
   "source": [
    "# Split data into a training set and a test set\n",
    "\n",
    "X_train, X_test, y_train, y_test = train_test_split(X, y, test_size=0.3, random_state=0)"
   ]
  },
  {
   "cell_type": "markdown",
   "id": "8309f0ca",
   "metadata": {},
   "source": [
    "### 04. Regression analysis"
   ]
  },
  {
   "cell_type": "code",
   "execution_count": 29,
   "id": "63633c50",
   "metadata": {},
   "outputs": [],
   "source": [
    "# Create a regression object\n",
    "\n",
    "regression = LinearRegression()"
   ]
  },
  {
   "cell_type": "code",
   "execution_count": 30,
   "id": "b5302ffb",
   "metadata": {},
   "outputs": [
    {
     "data": {
      "text/html": [
       "<style>#sk-container-id-1 {color: black;background-color: white;}#sk-container-id-1 pre{padding: 0;}#sk-container-id-1 div.sk-toggleable {background-color: white;}#sk-container-id-1 label.sk-toggleable__label {cursor: pointer;display: block;width: 100%;margin-bottom: 0;padding: 0.3em;box-sizing: border-box;text-align: center;}#sk-container-id-1 label.sk-toggleable__label-arrow:before {content: \"▸\";float: left;margin-right: 0.25em;color: #696969;}#sk-container-id-1 label.sk-toggleable__label-arrow:hover:before {color: black;}#sk-container-id-1 div.sk-estimator:hover label.sk-toggleable__label-arrow:before {color: black;}#sk-container-id-1 div.sk-toggleable__content {max-height: 0;max-width: 0;overflow: hidden;text-align: left;background-color: #f0f8ff;}#sk-container-id-1 div.sk-toggleable__content pre {margin: 0.2em;color: black;border-radius: 0.25em;background-color: #f0f8ff;}#sk-container-id-1 input.sk-toggleable__control:checked~div.sk-toggleable__content {max-height: 200px;max-width: 100%;overflow: auto;}#sk-container-id-1 input.sk-toggleable__control:checked~label.sk-toggleable__label-arrow:before {content: \"▾\";}#sk-container-id-1 div.sk-estimator input.sk-toggleable__control:checked~label.sk-toggleable__label {background-color: #d4ebff;}#sk-container-id-1 div.sk-label input.sk-toggleable__control:checked~label.sk-toggleable__label {background-color: #d4ebff;}#sk-container-id-1 input.sk-hidden--visually {border: 0;clip: rect(1px 1px 1px 1px);clip: rect(1px, 1px, 1px, 1px);height: 1px;margin: -1px;overflow: hidden;padding: 0;position: absolute;width: 1px;}#sk-container-id-1 div.sk-estimator {font-family: monospace;background-color: #f0f8ff;border: 1px dotted black;border-radius: 0.25em;box-sizing: border-box;margin-bottom: 0.5em;}#sk-container-id-1 div.sk-estimator:hover {background-color: #d4ebff;}#sk-container-id-1 div.sk-parallel-item::after {content: \"\";width: 100%;border-bottom: 1px solid gray;flex-grow: 1;}#sk-container-id-1 div.sk-label:hover label.sk-toggleable__label {background-color: #d4ebff;}#sk-container-id-1 div.sk-serial::before {content: \"\";position: absolute;border-left: 1px solid gray;box-sizing: border-box;top: 0;bottom: 0;left: 50%;z-index: 0;}#sk-container-id-1 div.sk-serial {display: flex;flex-direction: column;align-items: center;background-color: white;padding-right: 0.2em;padding-left: 0.2em;position: relative;}#sk-container-id-1 div.sk-item {position: relative;z-index: 1;}#sk-container-id-1 div.sk-parallel {display: flex;align-items: stretch;justify-content: center;background-color: white;position: relative;}#sk-container-id-1 div.sk-item::before, #sk-container-id-1 div.sk-parallel-item::before {content: \"\";position: absolute;border-left: 1px solid gray;box-sizing: border-box;top: 0;bottom: 0;left: 50%;z-index: -1;}#sk-container-id-1 div.sk-parallel-item {display: flex;flex-direction: column;z-index: 1;position: relative;background-color: white;}#sk-container-id-1 div.sk-parallel-item:first-child::after {align-self: flex-end;width: 50%;}#sk-container-id-1 div.sk-parallel-item:last-child::after {align-self: flex-start;width: 50%;}#sk-container-id-1 div.sk-parallel-item:only-child::after {width: 0;}#sk-container-id-1 div.sk-dashed-wrapped {border: 1px dashed gray;margin: 0 0.4em 0.5em 0.4em;box-sizing: border-box;padding-bottom: 0.4em;background-color: white;}#sk-container-id-1 div.sk-label label {font-family: monospace;font-weight: bold;display: inline-block;line-height: 1.2em;}#sk-container-id-1 div.sk-label-container {text-align: center;}#sk-container-id-1 div.sk-container {/* jupyter's `normalize.less` sets `[hidden] { display: none; }` but bootstrap.min.css set `[hidden] { display: none !important; }` so we also need the `!important` here to be able to override the default hidden behavior on the sphinx rendered scikit-learn.org. See: https://github.com/scikit-learn/scikit-learn/issues/21755 */display: inline-block !important;position: relative;}#sk-container-id-1 div.sk-text-repr-fallback {display: none;}</style><div id=\"sk-container-id-1\" class=\"sk-top-container\"><div class=\"sk-text-repr-fallback\"><pre>LinearRegression()</pre><b>In a Jupyter environment, please rerun this cell to show the HTML representation or trust the notebook. <br />On GitHub, the HTML representation is unable to render, please try loading this page with nbviewer.org.</b></div><div class=\"sk-container\" hidden><div class=\"sk-item\"><div class=\"sk-estimator sk-toggleable\"><input class=\"sk-toggleable__control sk-hidden--visually\" id=\"sk-estimator-id-1\" type=\"checkbox\" checked><label for=\"sk-estimator-id-1\" class=\"sk-toggleable__label sk-toggleable__label-arrow\">LinearRegression</label><div class=\"sk-toggleable__content\"><pre>LinearRegression()</pre></div></div></div></div></div>"
      ],
      "text/plain": [
       "LinearRegression()"
      ]
     },
     "execution_count": 30,
     "metadata": {},
     "output_type": "execute_result"
    }
   ],
   "source": [
    "# Fit the regression object onto the training set\n",
    "\n",
    "regression.fit(X_train, y_train)"
   ]
  },
  {
   "cell_type": "code",
   "execution_count": 31,
   "id": "842d3b8a",
   "metadata": {},
   "outputs": [],
   "source": [
    "# Predict the values of y using X.\n",
    "\n",
    "y_predicted = regression.predict(X_test)"
   ]
  },
  {
   "cell_type": "code",
   "execution_count": 32,
   "id": "c7786346",
   "metadata": {},
   "outputs": [
    {
     "data": {
      "image/png": "[encoded data removed]",
      "text/plain": [
       "<Figure size 640x480 with 1 Axes>"
      ]
     },
     "metadata": {},
     "output_type": "display_data"
    }
   ],
   "source": [
    "# Create a plot that shows the regression line from the model on the test set.\n",
    "\n",
    "plot_test = plt\n",
    "plot_test.scatter(X_test, y_test, color='gray', s = 15)\n",
    "plot_test.plot(X_test, y_predicted, color='red', linewidth =3)\n",
    "plot_test.title('Ozone Arithmetic Mean vs. Ozone AQI Level (Test set)')\n",
    "plot_test.xlabel('Arithmetic Mean')\n",
    "plot_test.ylabel('AQI')\n",
    "plot_test.show()"
   ]
  },
  {
   "cell_type": "markdown",
   "id": "9ef095e3",
   "metadata": {},
   "source": [
    "#### Discussion\n",
    "\n",
    "The line does not appear to fit the data very well. Especially when the mean is above 0.02, there are many, many data points scatter very far from the line. We can also still see the two outlier values on the chart that could potentially be impacting this"
   ]
  },
  {
   "cell_type": "code",
   "execution_count": 33,
   "id": "b5561106",
   "metadata": {},
   "outputs": [],
   "source": [
    "# Create objects that contain the model summary statistics.\n",
    "\n",
    "rmse = mean_squared_error(y_test, y_predicted)\n",
    "r2 = r2_score(y_test, y_predicted)"
   ]
  },
  {
   "cell_type": "code",
   "execution_count": 34,
   "id": "28dc1136",
   "metadata": {},
   "outputs": [
    {
     "name": "stdout",
     "output_type": "stream",
     "text": [
      "Slope: [[1195.27847416]]\n",
      "Mean squared error:  89.86103130118133\n",
      "R2 score:  0.6174223878477532\n"
     ]
    }
   ],
   "source": [
    "# Print the model summary statistics.\n",
    "\n",
    "print('Slope:' ,regression.coef_)\n",
    "print('Mean squared error: ', rmse)\n",
    "print('R2 score: ', r2)"
   ]
  },
  {
   "cell_type": "code",
   "execution_count": 35,
   "id": "69c05896",
   "metadata": {},
   "outputs": [
    {
     "data": {
      "text/plain": [
       "array([[42.45899693],\n",
       "       [43.30286354],\n",
       "       [33.88048332],\n",
       "       ...,\n",
       "       [24.81071026],\n",
       "       [26.70881248],\n",
       "       [47.45047984]])"
      ]
     },
     "execution_count": 35,
     "metadata": {},
     "output_type": "execute_result"
    }
   ],
   "source": [
    "y_predicted"
   ]
  },
  {
   "cell_type": "code",
   "execution_count": 36,
   "id": "5a56a0e9",
   "metadata": {
    "scrolled": true
   },
   "outputs": [
    {
     "data": {
      "text/html": [
       "<div>\n",
       "<style scoped>\n",
       "    .dataframe tbody tr th:only-of-type {\n",
       "        vertical-align: middle;\n",
       "    }\n",
       "\n",
       "    .dataframe tbody tr th {\n",
       "        vertical-align: top;\n",
       "    }\n",
       "\n",
       "    .dataframe thead th {\n",
       "        text-align: right;\n",
       "    }\n",
       "</style>\n",
       "<table border=\"1\" class=\"dataframe\">\n",
       "  <thead>\n",
       "    <tr style=\"text-align: right;\">\n",
       "      <th></th>\n",
       "      <th>Actual</th>\n",
       "      <th>Predicted</th>\n",
       "    </tr>\n",
       "  </thead>\n",
       "  <tbody>\n",
       "    <tr>\n",
       "      <th>0</th>\n",
       "      <td>50.0</td>\n",
       "      <td>42.458997</td>\n",
       "    </tr>\n",
       "    <tr>\n",
       "      <th>1</th>\n",
       "      <td>44.0</td>\n",
       "      <td>43.302864</td>\n",
       "    </tr>\n",
       "    <tr>\n",
       "      <th>2</th>\n",
       "      <td>29.0</td>\n",
       "      <td>33.880483</td>\n",
       "    </tr>\n",
       "    <tr>\n",
       "      <th>3</th>\n",
       "      <td>21.0</td>\n",
       "      <td>20.732420</td>\n",
       "    </tr>\n",
       "    <tr>\n",
       "      <th>4</th>\n",
       "      <td>39.0</td>\n",
       "      <td>39.154052</td>\n",
       "    </tr>\n",
       "    <tr>\n",
       "      <th>5</th>\n",
       "      <td>29.0</td>\n",
       "      <td>31.630969</td>\n",
       "    </tr>\n",
       "    <tr>\n",
       "      <th>6</th>\n",
       "      <td>54.0</td>\n",
       "      <td>51.599291</td>\n",
       "    </tr>\n",
       "    <tr>\n",
       "      <th>7</th>\n",
       "      <td>27.0</td>\n",
       "      <td>29.169891</td>\n",
       "    </tr>\n",
       "    <tr>\n",
       "      <th>8</th>\n",
       "      <td>29.0</td>\n",
       "      <td>30.787103</td>\n",
       "    </tr>\n",
       "    <tr>\n",
       "      <th>9</th>\n",
       "      <td>54.0</td>\n",
       "      <td>55.466017</td>\n",
       "    </tr>\n",
       "    <tr>\n",
       "      <th>10</th>\n",
       "      <td>38.0</td>\n",
       "      <td>46.044832</td>\n",
       "    </tr>\n",
       "    <tr>\n",
       "      <th>11</th>\n",
       "      <td>38.0</td>\n",
       "      <td>39.295095</td>\n",
       "    </tr>\n",
       "    <tr>\n",
       "      <th>12</th>\n",
       "      <td>44.0</td>\n",
       "      <td>48.223825</td>\n",
       "    </tr>\n",
       "    <tr>\n",
       "      <th>13</th>\n",
       "      <td>87.0</td>\n",
       "      <td>52.794570</td>\n",
       "    </tr>\n",
       "    <tr>\n",
       "      <th>14</th>\n",
       "      <td>43.0</td>\n",
       "      <td>51.247880</td>\n",
       "    </tr>\n",
       "    <tr>\n",
       "      <th>15</th>\n",
       "      <td>44.0</td>\n",
       "      <td>39.434942</td>\n",
       "    </tr>\n",
       "    <tr>\n",
       "      <th>16</th>\n",
       "      <td>47.0</td>\n",
       "      <td>54.622151</td>\n",
       "    </tr>\n",
       "    <tr>\n",
       "      <th>17</th>\n",
       "      <td>35.0</td>\n",
       "      <td>44.076209</td>\n",
       "    </tr>\n",
       "    <tr>\n",
       "      <th>18</th>\n",
       "      <td>37.0</td>\n",
       "      <td>43.232342</td>\n",
       "    </tr>\n",
       "    <tr>\n",
       "      <th>19</th>\n",
       "      <td>44.0</td>\n",
       "      <td>45.622899</td>\n",
       "    </tr>\n",
       "    <tr>\n",
       "      <th>20</th>\n",
       "      <td>22.0</td>\n",
       "      <td>26.216358</td>\n",
       "    </tr>\n",
       "    <tr>\n",
       "      <th>21</th>\n",
       "      <td>31.0</td>\n",
       "      <td>38.380707</td>\n",
       "    </tr>\n",
       "    <tr>\n",
       "      <th>22</th>\n",
       "      <td>34.0</td>\n",
       "      <td>31.982381</td>\n",
       "    </tr>\n",
       "    <tr>\n",
       "      <th>23</th>\n",
       "      <td>40.0</td>\n",
       "      <td>40.771264</td>\n",
       "    </tr>\n",
       "    <tr>\n",
       "      <th>24</th>\n",
       "      <td>17.0</td>\n",
       "      <td>18.271342</td>\n",
       "    </tr>\n",
       "    <tr>\n",
       "      <th>25</th>\n",
       "      <td>19.0</td>\n",
       "      <td>21.787851</td>\n",
       "    </tr>\n",
       "    <tr>\n",
       "      <th>26</th>\n",
       "      <td>27.0</td>\n",
       "      <td>33.880483</td>\n",
       "    </tr>\n",
       "    <tr>\n",
       "      <th>27</th>\n",
       "      <td>40.0</td>\n",
       "      <td>44.637990</td>\n",
       "    </tr>\n",
       "    <tr>\n",
       "      <th>28</th>\n",
       "      <td>41.0</td>\n",
       "      <td>36.271040</td>\n",
       "    </tr>\n",
       "    <tr>\n",
       "      <th>29</th>\n",
       "      <td>50.0</td>\n",
       "      <td>61.512931</td>\n",
       "    </tr>\n",
       "  </tbody>\n",
       "</table>\n",
       "</div>"
      ],
      "text/plain": [
       "    Actual  Predicted\n",
       "0     50.0  42.458997\n",
       "1     44.0  43.302864\n",
       "2     29.0  33.880483\n",
       "3     21.0  20.732420\n",
       "4     39.0  39.154052\n",
       "5     29.0  31.630969\n",
       "6     54.0  51.599291\n",
       "7     27.0  29.169891\n",
       "8     29.0  30.787103\n",
       "9     54.0  55.466017\n",
       "10    38.0  46.044832\n",
       "11    38.0  39.295095\n",
       "12    44.0  48.223825\n",
       "13    87.0  52.794570\n",
       "14    43.0  51.247880\n",
       "15    44.0  39.434942\n",
       "16    47.0  54.622151\n",
       "17    35.0  44.076209\n",
       "18    37.0  43.232342\n",
       "19    44.0  45.622899\n",
       "20    22.0  26.216358\n",
       "21    31.0  38.380707\n",
       "22    34.0  31.982381\n",
       "23    40.0  40.771264\n",
       "24    17.0  18.271342\n",
       "25    19.0  21.787851\n",
       "26    27.0  33.880483\n",
       "27    40.0  44.637990\n",
       "28    41.0  36.271040\n",
       "29    50.0  61.512931"
      ]
     },
     "execution_count": 36,
     "metadata": {},
     "output_type": "execute_result"
    }
   ],
   "source": [
    "# Create a dataframe comparing the actual and predicted values of y.\n",
    "\n",
    "data = pd.DataFrame({'Actual': y_test.flatten(), 'Predicted': y_predicted.flatten()})\n",
    "data.head(30)"
   ]
  },
  {
   "cell_type": "markdown",
   "id": "2afc8464",
   "metadata": {},
   "source": [
    "#### Compare how the regression fits the training set"
   ]
  },
  {
   "cell_type": "code",
   "execution_count": 37,
   "id": "d98869a7",
   "metadata": {},
   "outputs": [],
   "source": [
    "# Predict.\n",
    "\n",
    "y_predicted_train = regression.predict(X_train)"
   ]
  },
  {
   "cell_type": "code",
   "execution_count": 38,
   "id": "1ce1a363",
   "metadata": {},
   "outputs": [],
   "source": [
    "rmse = mean_squared_error(y_train, y_predicted_train)\n",
    "r2 = r2_score(y_train, y_predicted_train)"
   ]
  },
  {
   "cell_type": "code",
   "execution_count": 39,
   "id": "bed87a26",
   "metadata": {},
   "outputs": [
    {
     "name": "stdout",
     "output_type": "stream",
     "text": [
      "Slope: [[1195.27847416]]\n",
      "Mean squared error:  89.64640566526035\n",
      "R2 score:  0.6154208446767959\n"
     ]
    }
   ],
   "source": [
    "print('Slope:' ,regression.coef_)\n",
    "print('Mean squared error: ', rmse)\n",
    "print('R2 score: ', r2)"
   ]
  },
  {
   "cell_type": "code",
   "execution_count": 40,
   "id": "1537eeff",
   "metadata": {},
   "outputs": [
    {
     "data": {
      "image/png": "[encoded data removed]",
      "text/plain": [
       "<Figure size 640x480 with 1 Axes>"
      ]
     },
     "metadata": {},
     "output_type": "display_data"
    }
   ],
   "source": [
    "# Visualizing the training set results.\n",
    "\n",
    "plot_test = plt\n",
    "plot_test.scatter(X_train, y_train, color='green', s = 15)\n",
    "plot_test.plot(X_train, y_predicted_train, color='red', linewidth =3)\n",
    "plot_test.title('Ozone Arithmetic Mean vs. Ozone AQI Level (Train set)')\n",
    "plot_test.xlabel('Arithmetic Mean')\n",
    "plot_test.ylabel('AQI')\n",
    "plot_test.show()"
   ]
  },
  {
   "cell_type": "markdown",
   "id": "f0664dc8",
   "metadata": {},
   "source": [
    "#### Discussion\n",
    "\n",
    "The high MSE value on the test set regression indicates that the data is far from the regression line, and the line is not very accurate. In addition, the R2 value of 0.6174 is fairly low and also indicates that the model is not the best fit for the data. Finally, when comparing the actual y values to the predicted y values, we can see there is quite a difference between the values. Overall, based on all of this information, this model did not perform very well."
   ]
  },
  {
   "cell_type": "markdown",
   "id": "4c2e3233",
   "metadata": {},
   "source": [
    "### 5. Performance improvement after removing outliers"
   ]
  },
  {
   "cell_type": "code",
   "execution_count": 41,
   "id": "439a5aae",
   "metadata": {},
   "outputs": [],
   "source": [
    "# Clean the extreme values from the \"Mean Ozone\" variable observed during the consistency checks.\n",
    "\n",
    "df_test = df_sub[df_sub['Mean Ozone'] <=0.1] "
   ]
  },
  {
   "cell_type": "code",
   "execution_count": 42,
   "id": "715eae83",
   "metadata": {},
   "outputs": [
    {
     "data": {
      "image/png": "[encoded data removed]",
      "text/plain": [
       "<Figure size 640x480 with 1 Axes>"
      ]
     },
     "metadata": {},
     "output_type": "display_data"
    }
   ],
   "source": [
    "# See how the scatterplot looks without outliers.\n",
    "\n",
    "df_test.plot(x = 'Mean Ozone', y='AQI Ozone', style='o')  \n",
    "plt.title('Ozone Arithmetic Mean vs. Ozone AQI')  \n",
    "plt.xlabel('Arithmetic Mean')  \n",
    "plt.ylabel('AQI')  \n",
    "plt.show()"
   ]
  },
  {
   "cell_type": "code",
   "execution_count": 43,
   "id": "620a13e4",
   "metadata": {},
   "outputs": [],
   "source": [
    "X_2 = df_test['Mean Ozone'].values.reshape(-1,1)\n",
    "y_2 = df_test['AQI Ozone'].values.reshape(-1,1)"
   ]
  },
  {
   "cell_type": "code",
   "execution_count": 44,
   "id": "49bbd64d",
   "metadata": {},
   "outputs": [],
   "source": [
    "X_train_2, X_test_2, y_train_2, y_test_2 = train_test_split(X_2, y_2, test_size=0.3, random_state=0)"
   ]
  },
  {
   "cell_type": "code",
   "execution_count": 45,
   "id": "663a6900",
   "metadata": {},
   "outputs": [
    {
     "data": {
      "text/html": [
       "<style>#sk-container-id-2 {color: black;background-color: white;}#sk-container-id-2 pre{padding: 0;}#sk-container-id-2 div.sk-toggleable {background-color: white;}#sk-container-id-2 label.sk-toggleable__label {cursor: pointer;display: block;width: 100%;margin-bottom: 0;padding: 0.3em;box-sizing: border-box;text-align: center;}#sk-container-id-2 label.sk-toggleable__label-arrow:before {content: \"▸\";float: left;margin-right: 0.25em;color: #696969;}#sk-container-id-2 label.sk-toggleable__label-arrow:hover:before {color: black;}#sk-container-id-2 div.sk-estimator:hover label.sk-toggleable__label-arrow:before {color: black;}#sk-container-id-2 div.sk-toggleable__content {max-height: 0;max-width: 0;overflow: hidden;text-align: left;background-color: #f0f8ff;}#sk-container-id-2 div.sk-toggleable__content pre {margin: 0.2em;color: black;border-radius: 0.25em;background-color: #f0f8ff;}#sk-container-id-2 input.sk-toggleable__control:checked~div.sk-toggleable__content {max-height: 200px;max-width: 100%;overflow: auto;}#sk-container-id-2 input.sk-toggleable__control:checked~label.sk-toggleable__label-arrow:before {content: \"▾\";}#sk-container-id-2 div.sk-estimator input.sk-toggleable__control:checked~label.sk-toggleable__label {background-color: #d4ebff;}#sk-container-id-2 div.sk-label input.sk-toggleable__control:checked~label.sk-toggleable__label {background-color: #d4ebff;}#sk-container-id-2 input.sk-hidden--visually {border: 0;clip: rect(1px 1px 1px 1px);clip: rect(1px, 1px, 1px, 1px);height: 1px;margin: -1px;overflow: hidden;padding: 0;position: absolute;width: 1px;}#sk-container-id-2 div.sk-estimator {font-family: monospace;background-color: #f0f8ff;border: 1px dotted black;border-radius: 0.25em;box-sizing: border-box;margin-bottom: 0.5em;}#sk-container-id-2 div.sk-estimator:hover {background-color: #d4ebff;}#sk-container-id-2 div.sk-parallel-item::after {content: \"\";width: 100%;border-bottom: 1px solid gray;flex-grow: 1;}#sk-container-id-2 div.sk-label:hover label.sk-toggleable__label {background-color: #d4ebff;}#sk-container-id-2 div.sk-serial::before {content: \"\";position: absolute;border-left: 1px solid gray;box-sizing: border-box;top: 0;bottom: 0;left: 50%;z-index: 0;}#sk-container-id-2 div.sk-serial {display: flex;flex-direction: column;align-items: center;background-color: white;padding-right: 0.2em;padding-left: 0.2em;position: relative;}#sk-container-id-2 div.sk-item {position: relative;z-index: 1;}#sk-container-id-2 div.sk-parallel {display: flex;align-items: stretch;justify-content: center;background-color: white;position: relative;}#sk-container-id-2 div.sk-item::before, #sk-container-id-2 div.sk-parallel-item::before {content: \"\";position: absolute;border-left: 1px solid gray;box-sizing: border-box;top: 0;bottom: 0;left: 50%;z-index: -1;}#sk-container-id-2 div.sk-parallel-item {display: flex;flex-direction: column;z-index: 1;position: relative;background-color: white;}#sk-container-id-2 div.sk-parallel-item:first-child::after {align-self: flex-end;width: 50%;}#sk-container-id-2 div.sk-parallel-item:last-child::after {align-self: flex-start;width: 50%;}#sk-container-id-2 div.sk-parallel-item:only-child::after {width: 0;}#sk-container-id-2 div.sk-dashed-wrapped {border: 1px dashed gray;margin: 0 0.4em 0.5em 0.4em;box-sizing: border-box;padding-bottom: 0.4em;background-color: white;}#sk-container-id-2 div.sk-label label {font-family: monospace;font-weight: bold;display: inline-block;line-height: 1.2em;}#sk-container-id-2 div.sk-label-container {text-align: center;}#sk-container-id-2 div.sk-container {/* jupyter's `normalize.less` sets `[hidden] { display: none; }` but bootstrap.min.css set `[hidden] { display: none !important; }` so we also need the `!important` here to be able to override the default hidden behavior on the sphinx rendered scikit-learn.org. See: https://github.com/scikit-learn/scikit-learn/issues/21755 */display: inline-block !important;position: relative;}#sk-container-id-2 div.sk-text-repr-fallback {display: none;}</style><div id=\"sk-container-id-2\" class=\"sk-top-container\"><div class=\"sk-text-repr-fallback\"><pre>LinearRegression()</pre><b>In a Jupyter environment, please rerun this cell to show the HTML representation or trust the notebook. <br />On GitHub, the HTML representation is unable to render, please try loading this page with nbviewer.org.</b></div><div class=\"sk-container\" hidden><div class=\"sk-item\"><div class=\"sk-estimator sk-toggleable\"><input class=\"sk-toggleable__control sk-hidden--visually\" id=\"sk-estimator-id-2\" type=\"checkbox\" checked><label for=\"sk-estimator-id-2\" class=\"sk-toggleable__label sk-toggleable__label-arrow\">LinearRegression</label><div class=\"sk-toggleable__content\"><pre>LinearRegression()</pre></div></div></div></div></div>"
      ],
      "text/plain": [
       "LinearRegression()"
      ]
     },
     "execution_count": 45,
     "metadata": {},
     "output_type": "execute_result"
    }
   ],
   "source": [
    "# Run and fit the regression.\n",
    "\n",
    "regression = LinearRegression()  \n",
    "regression.fit(X_train_2, y_train_2)"
   ]
  },
  {
   "cell_type": "code",
   "execution_count": 46,
   "id": "6372f5a7",
   "metadata": {},
   "outputs": [],
   "source": [
    "# Predict.\n",
    "\n",
    "y_predicted_2 = regression.predict(X_test_2)"
   ]
  },
  {
   "cell_type": "code",
   "execution_count": 47,
   "id": "b77dc4c7",
   "metadata": {},
   "outputs": [],
   "source": [
    "rmse = mean_squared_error(y_test_2, y_predicted_2)\n",
    "r2 = r2_score(y_test_2, y_predicted_2)"
   ]
  },
  {
   "cell_type": "code",
   "execution_count": 48,
   "id": "3ed42770",
   "metadata": {},
   "outputs": [
    {
     "name": "stdout",
     "output_type": "stream",
     "text": [
      "Slope: [[1191.98749871]]\n",
      "Mean squared error:  92.47792019546385\n",
      "R2 score:  0.613680657393592\n"
     ]
    }
   ],
   "source": [
    "print('Slope:' ,regression.coef_)\n",
    "print('Mean squared error: ', rmse)\n",
    "print('R2 score: ', r2)"
   ]
  },
  {
   "cell_type": "code",
   "execution_count": 49,
   "id": "9b1a4987",
   "metadata": {},
   "outputs": [
    {
     "data": {
      "image/png": "[encoded data removed]",
      "text/plain": [
       "<Figure size 640x480 with 1 Axes>"
      ]
     },
     "metadata": {},
     "output_type": "display_data"
    }
   ],
   "source": [
    "# Visualizing the test set results.\n",
    "plot_test = plt\n",
    "plot_test.scatter(X_test_2, y_test_2, color='gray', s = 15)\n",
    "plot_test.plot(X_test_2, y_predicted_2, color='red', linewidth =3)\n",
    "plot_test.title('Ozone Arithmetic Mean vs. Ozone AQI (Test set)')\n",
    "plot_test.xlabel('Arithmetic Mean')\n",
    "plot_test.ylabel('AQI')\n",
    "plot_test.show()"
   ]
  },
  {
   "cell_type": "code",
   "execution_count": 50,
   "id": "ea4e2991",
   "metadata": {
    "scrolled": true
   },
   "outputs": [
    {
     "data": {
      "text/html": [
       "<div>\n",
       "<style scoped>\n",
       "    .dataframe tbody tr th:only-of-type {\n",
       "        vertical-align: middle;\n",
       "    }\n",
       "\n",
       "    .dataframe tbody tr th {\n",
       "        vertical-align: top;\n",
       "    }\n",
       "\n",
       "    .dataframe thead th {\n",
       "        text-align: right;\n",
       "    }\n",
       "</style>\n",
       "<table border=\"1\" class=\"dataframe\">\n",
       "  <thead>\n",
       "    <tr style=\"text-align: right;\">\n",
       "      <th></th>\n",
       "      <th>Actual</th>\n",
       "      <th>Predicted</th>\n",
       "    </tr>\n",
       "  </thead>\n",
       "  <tbody>\n",
       "    <tr>\n",
       "      <th>0</th>\n",
       "      <td>40.0</td>\n",
       "      <td>25.123522</td>\n",
       "    </tr>\n",
       "    <tr>\n",
       "      <th>1</th>\n",
       "      <td>51.0</td>\n",
       "      <td>59.270388</td>\n",
       "    </tr>\n",
       "    <tr>\n",
       "      <th>2</th>\n",
       "      <td>49.0</td>\n",
       "      <td>34.028861</td>\n",
       "    </tr>\n",
       "    <tr>\n",
       "      <th>3</th>\n",
       "      <td>40.0</td>\n",
       "      <td>48.892945</td>\n",
       "    </tr>\n",
       "    <tr>\n",
       "      <th>4</th>\n",
       "      <td>33.0</td>\n",
       "      <td>35.500965</td>\n",
       "    </tr>\n",
       "    <tr>\n",
       "      <th>5</th>\n",
       "      <td>44.0</td>\n",
       "      <td>34.168323</td>\n",
       "    </tr>\n",
       "    <tr>\n",
       "      <th>6</th>\n",
       "      <td>36.0</td>\n",
       "      <td>42.652890</td>\n",
       "    </tr>\n",
       "    <tr>\n",
       "      <th>7</th>\n",
       "      <td>36.0</td>\n",
       "      <td>36.201854</td>\n",
       "    </tr>\n",
       "    <tr>\n",
       "      <th>8</th>\n",
       "      <td>34.0</td>\n",
       "      <td>32.766546</td>\n",
       "    </tr>\n",
       "    <tr>\n",
       "      <th>9</th>\n",
       "      <td>35.0</td>\n",
       "      <td>28.980794</td>\n",
       "    </tr>\n",
       "    <tr>\n",
       "      <th>10</th>\n",
       "      <td>58.0</td>\n",
       "      <td>42.161792</td>\n",
       "    </tr>\n",
       "    <tr>\n",
       "      <th>11</th>\n",
       "      <td>37.0</td>\n",
       "      <td>36.833607</td>\n",
       "    </tr>\n",
       "    <tr>\n",
       "      <th>12</th>\n",
       "      <td>18.0</td>\n",
       "      <td>22.318776</td>\n",
       "    </tr>\n",
       "    <tr>\n",
       "      <th>13</th>\n",
       "      <td>27.0</td>\n",
       "      <td>31.433904</td>\n",
       "    </tr>\n",
       "    <tr>\n",
       "      <th>14</th>\n",
       "      <td>45.0</td>\n",
       "      <td>29.611355</td>\n",
       "    </tr>\n",
       "    <tr>\n",
       "      <th>15</th>\n",
       "      <td>39.0</td>\n",
       "      <td>43.284644</td>\n",
       "    </tr>\n",
       "    <tr>\n",
       "      <th>16</th>\n",
       "      <td>43.0</td>\n",
       "      <td>40.268915</td>\n",
       "    </tr>\n",
       "    <tr>\n",
       "      <th>17</th>\n",
       "      <td>40.0</td>\n",
       "      <td>48.121729</td>\n",
       "    </tr>\n",
       "    <tr>\n",
       "      <th>18</th>\n",
       "      <td>43.0</td>\n",
       "      <td>43.915205</td>\n",
       "    </tr>\n",
       "    <tr>\n",
       "      <th>19</th>\n",
       "      <td>50.0</td>\n",
       "      <td>55.554963</td>\n",
       "    </tr>\n",
       "    <tr>\n",
       "      <th>20</th>\n",
       "      <td>34.0</td>\n",
       "      <td>38.376039</td>\n",
       "    </tr>\n",
       "    <tr>\n",
       "      <th>21</th>\n",
       "      <td>30.0</td>\n",
       "      <td>34.099188</td>\n",
       "    </tr>\n",
       "    <tr>\n",
       "      <th>22</th>\n",
       "      <td>37.0</td>\n",
       "      <td>45.036865</td>\n",
       "    </tr>\n",
       "    <tr>\n",
       "      <th>23</th>\n",
       "      <td>51.0</td>\n",
       "      <td>52.434340</td>\n",
       "    </tr>\n",
       "    <tr>\n",
       "      <th>24</th>\n",
       "      <td>16.0</td>\n",
       "      <td>14.957061</td>\n",
       "    </tr>\n",
       "    <tr>\n",
       "      <th>25</th>\n",
       "      <td>36.0</td>\n",
       "      <td>31.995330</td>\n",
       "    </tr>\n",
       "    <tr>\n",
       "      <th>26</th>\n",
       "      <td>26.0</td>\n",
       "      <td>25.965065</td>\n",
       "    </tr>\n",
       "    <tr>\n",
       "      <th>27</th>\n",
       "      <td>27.0</td>\n",
       "      <td>24.702751</td>\n",
       "    </tr>\n",
       "    <tr>\n",
       "      <th>28</th>\n",
       "      <td>36.0</td>\n",
       "      <td>36.763280</td>\n",
       "    </tr>\n",
       "    <tr>\n",
       "      <th>29</th>\n",
       "      <td>159.0</td>\n",
       "      <td>81.497379</td>\n",
       "    </tr>\n",
       "  </tbody>\n",
       "</table>\n",
       "</div>"
      ],
      "text/plain": [
       "    Actual  Predicted\n",
       "0     40.0  25.123522\n",
       "1     51.0  59.270388\n",
       "2     49.0  34.028861\n",
       "3     40.0  48.892945\n",
       "4     33.0  35.500965\n",
       "5     44.0  34.168323\n",
       "6     36.0  42.652890\n",
       "7     36.0  36.201854\n",
       "8     34.0  32.766546\n",
       "9     35.0  28.980794\n",
       "10    58.0  42.161792\n",
       "11    37.0  36.833607\n",
       "12    18.0  22.318776\n",
       "13    27.0  31.433904\n",
       "14    45.0  29.611355\n",
       "15    39.0  43.284644\n",
       "16    43.0  40.268915\n",
       "17    40.0  48.121729\n",
       "18    43.0  43.915205\n",
       "19    50.0  55.554963\n",
       "20    34.0  38.376039\n",
       "21    30.0  34.099188\n",
       "22    37.0  45.036865\n",
       "23    51.0  52.434340\n",
       "24    16.0  14.957061\n",
       "25    36.0  31.995330\n",
       "26    26.0  25.965065\n",
       "27    27.0  24.702751\n",
       "28    36.0  36.763280\n",
       "29   159.0  81.497379"
      ]
     },
     "execution_count": 50,
     "metadata": {},
     "output_type": "execute_result"
    }
   ],
   "source": [
    "data = pd.DataFrame({'Actual': y_test_2.flatten(), 'Predicted': y_predicted_2.flatten()})\n",
    "data.head(30)"
   ]
  },
  {
   "cell_type": "markdown",
   "id": "bc26634c",
   "metadata": {},
   "source": [
    "#### Discussion\n",
    "\n",
    "Removing the outliers did not improve the performance or fit of the model, and the values removed may not be true outliers. Overall, this did not change the performance of the model. This linear regression is not the best fit for this data"
   ]
  },
  {
   "cell_type": "code",
   "execution_count": null,
   "id": "abdff6c5",
   "metadata": {},
   "outputs": [],
   "source": []
  }
 ],
 "metadata": {
  "kernelspec": {
   "display_name": "Python 3 (ipykernel)",
   "language": "python",
   "name": "python3"
  },
  "language_info": {
   "codemirror_mode": {
    "name": "ipython",
    "version": 3
   },
   "file_extension": ".py",
   "mimetype": "text/x-python",
   "name": "python",
   "nbconvert_exporter": "python",
   "pygments_lexer": "ipython3",
   "version": "3.10.9"
  }
 },
 "nbformat": 4,
 "nbformat_minor": 5
}
